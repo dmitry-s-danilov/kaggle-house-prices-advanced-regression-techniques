{
 "cells": [
  {
   "cell_type": "markdown",
   "id": "b92a2f5d-e8c2-4b6c-b835-60ef9283c39a",
   "metadata": {},
   "source": [
    "### Types"
   ]
  },
  {
   "cell_type": "code",
   "execution_count": 1,
   "id": "a45077b2-115f-4f88-9e03-3b0bcdc1a15c",
   "metadata": {},
   "outputs": [],
   "source": [
    "# from pandas import set_option, reset_option\n",
    "from contest.exploration.summary.types import describe"
   ]
  },
  {
   "cell_type": "code",
   "execution_count": 2,
   "id": "fe68004f-1e7c-46ff-8862-49e15eee6543",
   "metadata": {},
   "outputs": [],
   "source": [
    "description = describe()"
   ]
  },
  {
   "cell_type": "code",
   "execution_count": 3,
   "id": "897a23a0-5665-4642-b2ec-b0ee97d5949d",
   "metadata": {},
   "outputs": [
    {
     "data": {
      "text/html": [
       "<div>\n",
       "<style scoped>\n",
       "    .dataframe tbody tr th:only-of-type {\n",
       "        vertical-align: middle;\n",
       "    }\n",
       "\n",
       "    .dataframe tbody tr th {\n",
       "        vertical-align: top;\n",
       "    }\n",
       "\n",
       "    .dataframe thead th {\n",
       "        text-align: right;\n",
       "    }\n",
       "</style>\n",
       "<table border=\"1\" class=\"dataframe\">\n",
       "  <thead>\n",
       "    <tr style=\"text-align: right;\">\n",
       "      <th></th>\n",
       "      <th>train</th>\n",
       "      <th>test</th>\n",
       "    </tr>\n",
       "  </thead>\n",
       "  <tbody>\n",
       "    <tr>\n",
       "      <th>rows</th>\n",
       "      <td>1460</td>\n",
       "      <td>1459</td>\n",
       "    </tr>\n",
       "    <tr>\n",
       "      <th>columns</th>\n",
       "      <td>80</td>\n",
       "      <td>79</td>\n",
       "    </tr>\n",
       "    <tr>\n",
       "      <th>object</th>\n",
       "      <td>43</td>\n",
       "      <td>43</td>\n",
       "    </tr>\n",
       "    <tr>\n",
       "      <th>number</th>\n",
       "      <td>37</td>\n",
       "      <td>36</td>\n",
       "    </tr>\n",
       "    <tr>\n",
       "      <th>int</th>\n",
       "      <td>34</td>\n",
       "      <td>25</td>\n",
       "    </tr>\n",
       "    <tr>\n",
       "      <th>float</th>\n",
       "      <td>3</td>\n",
       "      <td>11</td>\n",
       "    </tr>\n",
       "    <tr>\n",
       "      <th>null</th>\n",
       "      <td>True</td>\n",
       "      <td>True</td>\n",
       "    </tr>\n",
       "  </tbody>\n",
       "</table>\n",
       "</div>"
      ],
      "text/plain": [
       "        train  test\n",
       "rows     1460  1459\n",
       "columns    80    79\n",
       "object     43    43\n",
       "number     37    36\n",
       "int        34    25\n",
       "float       3    11\n",
       "null     True  True"
      ]
     },
     "execution_count": 3,
     "metadata": {},
     "output_type": "execute_result"
    }
   ],
   "source": [
    "# set_option(\n",
    "#     'display.max_rows', description.shape[0],\n",
    "#     'display.max_columns', description.shape[1],\n",
    "# )\n",
    "\n",
    "description"
   ]
  },
  {
   "cell_type": "code",
   "execution_count": 4,
   "id": "b86f7bc0-0160-4999-9af5-5c5627268b18",
   "metadata": {},
   "outputs": [],
   "source": [
    "# reset_option('display.*')"
   ]
  }
 ],
 "metadata": {
  "kernelspec": {
   "display_name": "Python 3.9 (contest 2)",
   "language": "python",
   "name": "python3.9-contest2"
  },
  "language_info": {
   "codemirror_mode": {
    "name": "ipython",
    "version": 3
   },
   "file_extension": ".py",
   "mimetype": "text/x-python",
   "name": "python",
   "nbconvert_exporter": "python",
   "pygments_lexer": "ipython3",
   "version": "3.9.9"
  }
 },
 "nbformat": 4,
 "nbformat_minor": 5
}
