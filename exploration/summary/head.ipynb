{
 "cells": [
  {
   "cell_type": "markdown",
   "id": "24224014-8f45-4255-9cc1-13995ba41dd1",
   "metadata": {},
   "source": [
    "# Data Exploration\n",
    "## Summary"
   ]
  }
 ],
 "metadata": {
  "kernelspec": {
   "display_name": "Python 3.9 (contest 2)",
   "language": "python",
   "name": "python3.9-contest2"
  },
  "language_info": {
   "codemirror_mode": {
    "name": "ipython",
    "version": 3
   },
   "file_extension": ".py",
   "mimetype": "text/x-python",
   "name": "python",
   "nbconvert_exporter": "python",
   "pygments_lexer": "ipython3",
   "version": "3.9.9"
  }
 },
 "nbformat": 4,
 "nbformat_minor": 5
}
