{
 "cells": [
  {
   "cell_type": "markdown",
   "id": "a5483680-adec-40c7-b40a-a0721fc6bf66",
   "metadata": {},
   "source": [
    "# Data Exploration Analysis\n",
    "## Target summary\n",
    "\n",
    "- one peak distribution\n",
    "- positive kurtousis (sharp peak)\n",
    "- posistve skewness ()"
   ]
  },
  {
   "cell_type": "code",
   "execution_count": 10,
   "id": "1692f776-100f-4c4d-8563-0ec2c92794d2",
   "metadata": {},
   "outputs": [],
   "source": [
    "from math import ceil\n",
    "import pandas as pd\n",
    "import matplotlib.pyplot as plt\n",
    "\n",
    "plt.style.use('seaborn-deep')\n",
    "pd.options.display.float_format = '{:g}'.format"
   ]
  },
  {
   "cell_type": "markdown",
   "id": "8e7910c2-6a92-4b80-8dee-31b4ae4e0a63",
   "metadata": {},
   "source": [
    "### Load"
   ]
  },
  {
   "cell_type": "code",
   "execution_count": 12,
   "id": "85a12bd9-8c00-48c6-b54e-e3ea90a46af4",
   "metadata": {},
   "outputs": [],
   "source": [
    "data_file_path = '../input/train.csv'\n",
    "data_load_params = dict(\n",
    "    # sep=',',\n",
    "    # header=0,\n",
    "    index_col='Id',\n",
    "    # na_values=['NA', 'None'],\n",
    "    # keep_default_na=True,\n",
    ")\n",
    "y_name = 'SalePrice'\n",
    "\n",
    "data_set = pd.read_csv(data_file_path, **data_load_params)\n",
    "y = data_set[y_name]"
   ]
  },
  {
   "cell_type": "markdown",
   "id": "d61fce97-4e12-4d12-b164-b7149df20686",
   "metadata": {},
   "source": [
    "### Summary"
   ]
  },
  {
   "cell_type": "code",
   "execution_count": 3,
   "id": "57a590de-7fa6-4ca0-b7f7-97fa5ad9e48c",
   "metadata": {},
   "outputs": [
    {
     "data": {
      "text/html": [
       "<div>\n",
       "<style scoped>\n",
       "    .dataframe tbody tr th:only-of-type {\n",
       "        vertical-align: middle;\n",
       "    }\n",
       "\n",
       "    .dataframe tbody tr th {\n",
       "        vertical-align: top;\n",
       "    }\n",
       "\n",
       "    .dataframe thead th {\n",
       "        text-align: right;\n",
       "    }\n",
       "</style>\n",
       "<table border=\"1\" class=\"dataframe\">\n",
       "  <thead>\n",
       "    <tr style=\"text-align: right;\">\n",
       "      <th></th>\n",
       "      <th>SalePrice</th>\n",
       "    </tr>\n",
       "  </thead>\n",
       "  <tbody>\n",
       "    <tr>\n",
       "      <th>type</th>\n",
       "      <td>int64</td>\n",
       "    </tr>\n",
       "    <tr>\n",
       "      <th>unique</th>\n",
       "      <td>663</td>\n",
       "    </tr>\n",
       "    <tr>\n",
       "      <th>null</th>\n",
       "      <td>0</td>\n",
       "    </tr>\n",
       "    <tr>\n",
       "      <th>notnull</th>\n",
       "      <td>1460</td>\n",
       "    </tr>\n",
       "  </tbody>\n",
       "</table>\n",
       "</div>"
      ],
      "text/plain": [
       "        SalePrice\n",
       "type        int64\n",
       "unique        663\n",
       "null            0\n",
       "notnull      1460"
      ]
     },
     "execution_count": 3,
     "metadata": {},
     "output_type": "execute_result"
    }
   ],
   "source": [
    "y_descr = {\n",
    "    'type': y.dtype,\n",
    "    'unique': y.nunique(),\n",
    "    'null': y.isnull().sum(),\n",
    "    # 'notnull': y.notnull().sum(),\n",
    "    'notnull': y.count(),\n",
    "}\n",
    "y_descr = pd.DataFrame(\n",
    "    {y_name: y_descr}\n",
    ").loc[\n",
    "    ['type', 'unique', 'null', 'notnull'], :\n",
    "]\n",
    "\n",
    "y_descr"
   ]
  },
  {
   "cell_type": "markdown",
   "id": "582c6224-3255-4245-b003-23b5fffcd823",
   "metadata": {},
   "source": [
    "#### Describe"
   ]
  },
  {
   "cell_type": "code",
   "execution_count": 4,
   "id": "fb7277a1-0cc8-4094-8c1f-0c1505c59575",
   "metadata": {},
   "outputs": [
    {
     "data": {
      "text/html": [
       "<div>\n",
       "<style scoped>\n",
       "    .dataframe tbody tr th:only-of-type {\n",
       "        vertical-align: middle;\n",
       "    }\n",
       "\n",
       "    .dataframe tbody tr th {\n",
       "        vertical-align: top;\n",
       "    }\n",
       "\n",
       "    .dataframe thead th {\n",
       "        text-align: right;\n",
       "    }\n",
       "</style>\n",
       "<table border=\"1\" class=\"dataframe\">\n",
       "  <thead>\n",
       "    <tr style=\"text-align: right;\">\n",
       "      <th></th>\n",
       "      <th>SalePrice</th>\n",
       "    </tr>\n",
       "  </thead>\n",
       "  <tbody>\n",
       "    <tr>\n",
       "      <th>count</th>\n",
       "      <td>1460</td>\n",
       "    </tr>\n",
       "    <tr>\n",
       "      <th>mean</th>\n",
       "      <td>180921</td>\n",
       "    </tr>\n",
       "    <tr>\n",
       "      <th>std</th>\n",
       "      <td>79442.5</td>\n",
       "    </tr>\n",
       "    <tr>\n",
       "      <th>min</th>\n",
       "      <td>34900</td>\n",
       "    </tr>\n",
       "    <tr>\n",
       "      <th>25%</th>\n",
       "      <td>129975</td>\n",
       "    </tr>\n",
       "    <tr>\n",
       "      <th>50%</th>\n",
       "      <td>163000</td>\n",
       "    </tr>\n",
       "    <tr>\n",
       "      <th>75%</th>\n",
       "      <td>214000</td>\n",
       "    </tr>\n",
       "    <tr>\n",
       "      <th>max</th>\n",
       "      <td>755000</td>\n",
       "    </tr>\n",
       "  </tbody>\n",
       "</table>\n",
       "</div>"
      ],
      "text/plain": [
       "       SalePrice\n",
       "count       1460\n",
       "mean      180921\n",
       "std      79442.5\n",
       "min        34900\n",
       "25%       129975\n",
       "50%       163000\n",
       "75%       214000\n",
       "max       755000"
      ]
     },
     "execution_count": 4,
     "metadata": {},
     "output_type": "execute_result"
    }
   ],
   "source": [
    "y_descr = y.describe()\n",
    "y_descr = pd.DataFrame(y_descr)\n",
    "\n",
    "y_descr"
   ]
  },
  {
   "cell_type": "markdown",
   "id": "d8a6a762-1bed-4a88-8832-343f6d442361",
   "metadata": {},
   "source": [
    "#### Statistics"
   ]
  },
  {
   "cell_type": "code",
   "execution_count": 5,
   "id": "0cb41638-9cf1-4cea-979c-baf6534dc6e2",
   "metadata": {
    "tags": []
   },
   "outputs": [
    {
     "data": {
      "text/html": [
       "<div>\n",
       "<style scoped>\n",
       "    .dataframe tbody tr th:only-of-type {\n",
       "        vertical-align: middle;\n",
       "    }\n",
       "\n",
       "    .dataframe tbody tr th {\n",
       "        vertical-align: top;\n",
       "    }\n",
       "\n",
       "    .dataframe thead th {\n",
       "        text-align: right;\n",
       "    }\n",
       "</style>\n",
       "<table border=\"1\" class=\"dataframe\">\n",
       "  <thead>\n",
       "    <tr style=\"text-align: right;\">\n",
       "      <th></th>\n",
       "      <th>SalePrice</th>\n",
       "    </tr>\n",
       "  </thead>\n",
       "  <tbody>\n",
       "    <tr>\n",
       "      <th>median</th>\n",
       "      <td>163000</td>\n",
       "    </tr>\n",
       "    <tr>\n",
       "      <th>IQR</th>\n",
       "      <td>84025</td>\n",
       "    </tr>\n",
       "    <tr>\n",
       "      <th>mean</th>\n",
       "      <td>180921</td>\n",
       "    </tr>\n",
       "    <tr>\n",
       "      <th>std</th>\n",
       "      <td>79442.5</td>\n",
       "    </tr>\n",
       "    <tr>\n",
       "      <th>skewness</th>\n",
       "      <td>1.88288</td>\n",
       "    </tr>\n",
       "    <tr>\n",
       "      <th>kurtosis</th>\n",
       "      <td>6.53628</td>\n",
       "    </tr>\n",
       "  </tbody>\n",
       "</table>\n",
       "</div>"
      ],
      "text/plain": [
       "          SalePrice\n",
       "median       163000\n",
       "IQR           84025\n",
       "mean         180921\n",
       "std         79442.5\n",
       "skewness    1.88288\n",
       "kurtosis    6.53628"
      ]
     },
     "execution_count": 5,
     "metadata": {},
     "output_type": "execute_result"
    }
   ],
   "source": [
    "y_descr = {\n",
    "    'median': y.median(),\n",
    "    'IQR': y.quantile(.75) - y.quantile(.25),\n",
    "    'mean': y.mean(),\n",
    "    'std': y.std(),\n",
    "    'skewness': y.skew(),\n",
    "    'kurtosis': y.kurtosis(),\n",
    "}\n",
    "y_descr = pd.DataFrame(\n",
    "    {y_name: y_descr}\n",
    ").loc[\n",
    "    [\n",
    "        'median', 'IQR',\n",
    "        'mean', 'std',\n",
    "        'skewness', 'kurtosis',\n",
    "    ], :\n",
    "]\n",
    "\n",
    "y_descr"
   ]
  },
  {
   "cell_type": "code",
   "execution_count": 9,
   "id": "44c86935-e2ba-4389-a7d5-37bcab6cc491",
   "metadata": {
    "tags": []
   },
   "outputs": [
    {
     "data": {
      "image/png": "[encoded data removed]",
      "text/plain": [
       "<Figure size 460.8x691.2 with 2 Axes>"
      ]
     },
     "metadata": {
      "needs_background": "light"
     },
     "output_type": "display_data"
    }
   ],
   "source": [
    "y_min, y_max = y.min(), y.max()\n",
    "y_Q1, y_Q2, y_Q3 = y.quantile(.25), y.median(), y.quantile(.75)\n",
    "y_mean, y_std = y.mean(), y.std()\n",
    "\n",
    "k = 5  # approximate number of histogram bins in the IQR\n",
    "bins = ceil(k * (y_max - y_min) / (y_Q3 - y_Q1))\n",
    "\n",
    "nrows, ncols = 2, 1  # size of subplot grid\n",
    "\n",
    "subplot_props = dict(\n",
    "    sharex=True,\n",
    "    figsize=(6.4 * ncols, 4.8 * nrows),\n",
    "    constrained_layout=True,\n",
    ")\n",
    "\n",
    "median_props = dict(\n",
    "    color='red',\n",
    "    linestyle='solid',\n",
    "    linewidth=1,\n",
    ")\n",
    "quantile_props = dict(\n",
    "    color='red',\n",
    "    linestyle='dashed',\n",
    "    linewidth=1,\n",
    ")\n",
    "mean_props = dict(\n",
    "    color='black',\n",
    "    linestyle='dotted',\n",
    "    linewidth=1,\n",
    ")\n",
    "std_props = dict(\n",
    "    color='black',\n",
    "    linestyle='dashdot',\n",
    "    linewidth=1,\n",
    ")\n",
    "\n",
    "boxplot_props = dict(\n",
    "    vert=False,\n",
    "    showmeans=True,\n",
    "    medianprops=median_props,\n",
    "    # boxprops=quantile_props,\n",
    ")\n",
    "\n",
    "hist_props = dict(\n",
    "    bins=bins,\n",
    "    # label=y.name,\n",
    ")\n",
    "\n",
    "fig, axs = plt.subplots(nrows, ncols, **subplot_props)\n",
    "\n",
    "i = 0\n",
    "axs[i].boxplot(y, **boxplot_props)\n",
    "axs[i].set_yticks(ticks=[])\n",
    "\n",
    "i = 1\n",
    "axs[i].hist(y, **hist_props)\n",
    "axs[i].axvline(y_Q2, label='Q2', **median_props)\n",
    "axs[i].axvline(y_Q1, label='Q1', **quantile_props)\n",
    "axs[i].axvline(y_Q3, label='Q3', **quantile_props)\n",
    "axs[i].axvline(y_mean, label=f'$\\mu$', **mean_props)\n",
    "axs[i].axvline(y_mean - y_std, label='$\\mu - \\sigma$', **std_props)\n",
    "axs[i].axvline(y_mean + y_std, label='$\\mu + \\sigma$', **std_props)\n",
    "axs[i].legend()\n",
    "\n",
    "fig.suptitle(y.name)\n",
    "\n",
    "plt.show()"
   ]
  }
 ],
 "metadata": {
  "kernelspec": {
   "display_name": "python3.9 (prices prediction)",
   "language": "python",
   "name": "prices_prediction"
  },
  "language_info": {
   "codemirror_mode": {
    "name": "ipython",
    "version": 3
   },
   "file_extension": ".py",
   "mimetype": "text/x-python",
   "name": "python",
   "nbconvert_exporter": "python",
   "pygments_lexer": "ipython3",
   "version": "3.9.7"
  }
 },
 "nbformat": 4,
 "nbformat_minor": 5
}
